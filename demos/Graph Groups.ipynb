{
 "cells": [
  {
   "cell_type": "code",
   "execution_count": 1,
   "metadata": {},
   "outputs": [
    {
     "name": "stdout",
     "output_type": "stream",
     "text": [
      "Running with 6 participants and group counts [1, 2, 3]\n"
     ]
    }
   ],
   "source": [
    "%matplotlib inline\n",
    "from __future__ import unicode_literals\n",
    "import csv\n",
    "import json\n",
    "import matplotlib.pyplot as plt\n",
    "import pandas as pd\n",
    "from dallinger.experiments import Griduniverse\n",
    "from dlgr.griduniverse.experiment import Gridworld\n",
    "\n",
    "ROWS = 40\n",
    "COLS = 40\n",
    "# We need to increase the CSV field size to successfully load GU experiment\n",
    "# data with a large grid\n",
    "ORIG_CSV_LIMIT = csv.field_size_limit(ROWS*COLS*1024)\n",
    "\n",
    "BASE_ID = \"b0d3daa{}-f7ed-43fa-ad6b-9928aa51f8e1\"\n",
    "PARTICIPANTS = 6\n",
    "\n",
    "# Repeat for each group counts into which we can divide participants\n",
    "GROUP_COUNTS = [n for n in range(1, len(Gridworld.player_colors) + 1)\n",
    "                if PARTICIPANTS % n == 0 and n != PARTICIPANTS]\n",
    "\n",
    "PLOT_VARS = [\"average_score\", \"average_payoff\"]\n",
    "print \"Running with {} participants and group counts {}\".format(\n",
    "    PARTICIPANTS, GROUP_COUNTS\n",
    ")"
   ]
  },
  {
   "cell_type": "code",
   "execution_count": 2,
   "metadata": {
    "collapsed": true
   },
   "outputs": [],
   "source": [
    "EXP_CONFIG = {\n",
    "    \"mode\": \"live\",\n",
    "    \"max_participants\": PARTICIPANTS,\n",
    "    \"num_recruits\": PARTICIPANTS*3,\n",
    "    \"num_colors\": 1,\n",
    "    \"time_per_round\": 60.0,\n",
    "    \"num_rounds\": 2,\n",
    "    \"num_food\": ROWS * COLS / 100,\n",
    "    \"walls_density\": 0.50,\n",
    "    \"walls_contiguity\": 0.90,\n",
    "    \"block_size\": 12,\n",
    "    \"rows\": ROWS,\n",
    "    \"columns\": COLS,\n",
    "    \"window_rows\": 20,\n",
    "    \"window_columns\": 20,\n",
    "    \"use_identicons\": True,\n",
    "    \"visibility\": 7,\n",
    "    \"show_chatroom\": True,\n",
    "    \"spatial_chat\": False,\n",
    "    \"chat_visibility_threshold\": 0.3,\n",
    "    \"intergroup_competition\": 20.0,\n",
    "    \"intragroup_competition\": 0.0,\n",
    "    \"leaderboard_group\": True,\n",
    "    \"leaderboard_time\": 3,\n",
    "    \"food_probability_distribution\": \"sinusoidal 15\",\n",
    "}"
   ]
  },
  {
   "cell_type": "code",
   "execution_count": 3,
   "metadata": {
    "collapsed": true
   },
   "outputs": [],
   "source": [
    "exp = Griduniverse()\n",
    "exp.verbose = False\n",
    "data = []"
   ]
  },
  {
   "cell_type": "code",
   "execution_count": 4,
   "metadata": {
    "collapsed": true
   },
   "outputs": [],
   "source": [
    "for count in GROUP_COUNTS:\n",
    "    exp_id = BASE_ID.format(count)\n",
    "    config = EXP_CONFIG.copy()\n",
    "    \n",
    "    config[\"num_colors\"] = count\n",
    "    data.append(exp.collect(exp_id, exp_config=config))"
   ]
  },
  {
   "cell_type": "code",
   "execution_count": 5,
   "metadata": {
    "collapsed": true
   },
   "outputs": [],
   "source": [
    "graph_data = [(count, json.loads(exp.analyze(data[i])))\n",
    "              for i, count in enumerate(GROUP_COUNTS)]"
   ]
  },
  {
   "cell_type": "code",
   "execution_count": 6,
   "metadata": {
    "collapsed": true
   },
   "outputs": [],
   "source": [
    "df = pd.DataFrame([[d[1][v] for v in PLOT_VARS] for d in graph_data],\n",
    "                  index=[d[0] for d in graph_data],\n",
    "                  columns=PLOT_VARS)"
   ]
  },
  {
   "cell_type": "code",
   "execution_count": 7,
   "metadata": {},
   "outputs": [
    {
     "data": {
      "image/png": "[encoded data removed]",
      "text/plain": [
       "<Figure size 432x288 with 1 Axes>"
      ]
     },
     "metadata": {},
     "output_type": "display_data"
    }
   ],
   "source": [
    "axes = df.plot(kind=\"bar\", title=\"Griduniverse Score/Payoff by Number of Groups\")\n",
    "label = axes.set_xlabel(\"Number of Groups\")"
   ]
  }
 ],
 "metadata": {
  "kernelspec": {
   "display_name": "Python 2",
   "language": "python",
   "name": "python2"
  },
  "language_info": {
   "codemirror_mode": {
    "name": "ipython",
    "version": 2
   },
   "file_extension": ".py",
   "mimetype": "text/x-python",
   "name": "python",
   "nbconvert_exporter": "python",
   "pygments_lexer": "ipython2",
   "version": "2.7.13"
  }
 },
 "nbformat": 4,
 "nbformat_minor": 2
}
