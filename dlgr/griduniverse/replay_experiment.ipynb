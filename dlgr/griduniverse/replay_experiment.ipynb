{
 "cells": [
  {
   "cell_type": "markdown",
   "metadata": {},
   "source": [
    "# Prerequistes\n",
    "\n",
    "You need to have Dallinger and Griduniverse installed. In addition, you need a data file\n",
    "to analyse and you need to know the date/times you want to view it at.\n",
    "\n",
    "A simple example is `6195d89e-c2c0-c65c-8f09-ba0f27143b35` which has meaningful data from\n",
    "`2018-04-20 16:32:04` until `2018-04-20 16:32:22` but any other will work.\n",
    "\n",
    "You also need to ensure that the `dallinger-import` database exists and is writable by\n",
    "the dallinger user.\n",
    "\n",
    "# Use\n",
    "\n",
    "Simply run all cells to get the notebook in a working state. Then click the advance button\n",
    "below the grid to advance the time by 1 second.\n",
    "\n",
    "# Caveats\n",
    "\n",
    "This is a work in progress, some things do not work as intended. Specifically:\n",
    "\n",
    "* The widget loses which tab is selected on refresh\n",
    "* You can only progress forward in time, and only from a known-good point in the history\n",
    "* You need to re-enter the experiment config as part of the `restore_state_from_replay` call\n",
    "* Not all Griduniverse features are supported\n",
    "* Older Griduniverse exports do not display chat history\n",
    "* The teardown code is not working correctly. You will not be able to run cell 1 twice \n",
    "  within the same kernel. You must shut down your jupyter notebook server and restart\n",
    "  in order to run it again."
   ]
  },
  {
   "cell_type": "code",
   "execution_count": 1,
   "metadata": {},
   "outputs": [
    {
     "name": "stderr",
     "output_type": "stream",
     "text": [
      "/home/ubuntu/venv/local/lib/python2.7/site-packages/psycopg2/__init__.py:144: UserWarning: The psycopg2 wheel package will be renamed from release 2.8; in order to keep installing from binary please use \"pip install psycopg2-binary\" instead. For details see: <http://initd.org/psycopg/docs/install.html#binary-install-from-pypi>.\n",
      "  \"\"\")\n"
     ]
    },
    {
     "name": "stdout",
     "output_type": "stream",
     "text": [
      "Ingesting dataset from 6195d89e-c2c0-c65c-8f09-ba0f27143b35-data.zip...\n"
     ]
    }
   ],
   "source": [
    "from dlgr.griduniverse.experiment import Griduniverse\n",
    "from dallinger import db\n",
    "from dallinger.config import get_config\n",
    "\n",
    "experiment = Griduniverse()\n",
    "participants = 3\n",
    "import datetime\n",
    "\n",
    "\n",
    "replay = experiment.restore_state_from_replay(\n",
    "    '6195d89e-c2c0-c65c-8f09-ba0f27143b35',\n",
    "    session=db.init_db(drop_all=True),\n",
    "    max_participants=participants,\n",
    "    num_dynos_worker=participants,\n",
    "    walls_density = 0.50,\n",
    "    walls_contiguity = 0.90,\n",
    "    rows = 25,\n",
    "    columns = 25,\n",
    ")\n",
    "# This time is taken from the logs of the experiment, it is the start of the experiment\n",
    "target = datetime.datetime(2018, 4, 20, 16, 32, 4)\n",
    "# This unusual syntax is to allow for multiple jupyter cells to interact with the experiment\n",
    "# without it being torn down. You will need to restart your jupyter session to make the teardown\n",
    "# happen\n",
    "scrubber = replay.__enter__()\n"
   ]
  },
  {
   "cell_type": "code",
   "execution_count": 2,
   "metadata": {
    "scrolled": false
   },
   "outputs": [
    {
     "data": {
      "application/vnd.jupyter.widget-view+json": {
       "model_id": "240c5a889cae4ed0aeff40ed547f012f",
       "version_major": 2,
       "version_minor": 0
      },
      "text/plain": [
       "A Jupyter Widget"
      ]
     },
     "metadata": {},
     "output_type": "display_data"
    },
    {
     "data": {
      "application/vnd.jupyter.widget-view+json": {
       "model_id": "5333a26c8c664451a2353b63dfbad0b2",
       "version_major": 2,
       "version_minor": 0
      },
      "text/plain": [
       "A Jupyter Widget"
      ]
     },
     "metadata": {},
     "output_type": "display_data"
    }
   ],
   "source": [
    "experiment.widget.render()\n",
    "display(experiment.widget)\n",
    "display(scrubber)"
   ]
  }
 ],
 "metadata": {
  "kernelspec": {
   "display_name": "Python 2",
   "language": "python",
   "name": "python2"
  },
  "language_info": {
   "codemirror_mode": {
    "name": "ipython",
    "version": 2
   },
   "file_extension": ".py",
   "mimetype": "text/x-python",
   "name": "python",
   "nbconvert_exporter": "python",
   "pygments_lexer": "ipython2",
   "version": "2.7.12"
  }
 },
 "nbformat": 4,
 "nbformat_minor": 2
}
